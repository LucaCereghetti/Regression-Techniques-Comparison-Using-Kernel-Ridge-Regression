{
 "cells": [
  {
   "cell_type": "markdown",
   "metadata": {
    "id": "Wb9jwy5VJcPe"
   },
   "source": [
    "# Kernel Functions"
   ]
  },
  {
   "cell_type": "markdown",
   "metadata": {
    "id": "o3bGpy8_JhYj"
   },
   "source": [
    "We refer [here](https://scikit-learn.org/stable/modules/classes.html#module-sklearn.gaussian_process.kernels) for implementations of different kernel functions, and [the kernel cookbook](https://www.cs.toronto.edu/~duvenaud/cookbook/) which contains instructions on how to choose kernels."
   ]
  },
  {
   "cell_type": "markdown",
   "metadata": {
    "id": "2TuaSwkVJnEk"
   },
   "source": [
    "## Import packages"
   ]
  },
  {
   "cell_type": "code",
   "execution_count": 1,
   "metadata": {
    "id": "KNUnnT_bJoEd",
    "tags": []
   },
   "outputs": [],
   "source": [
    "import numpy as np\n",
    "from sklearn.gaussian_process.kernels import RBF\n",
    "from sklearn.gaussian_process.kernels import Matern\n",
    "from scipy.spatial.distance import cdist"
   ]
  },
  {
   "cell_type": "markdown",
   "metadata": {
    "id": "Ma_7Njz4JwQI"
   },
   "source": [
    "## Gaussian RBF kernel"
   ]
  },
  {
   "cell_type": "markdown",
   "metadata": {
    "id": "hEDuDtAhJ5N0"
   },
   "source": [
    "The Gaussian RBF kernel is defined as\n",
    "\n",
    "\\begin{equation}\n",
    "K(x,x') := \\operatorname{exp}\\left(-\\frac{\\|x-x'\\|_2^2}{2\\sigma^2}\\right),\n",
    "\\end{equation}\n",
    "\n",
    "where $\\sigma$ is called the length-scale parameter. An important fact to note is that for the length-scale parameter $\\nu \\to \\infty$, the Matern kernel becomes identical to the Gaussian RBF kernel. See [here](https://scikit-learn.org/stable/modules/generated/sklearn.gaussian_process.kernels.RBF.html#sklearn.gaussian_process.kernels.RBF) and references herein for further details.\n",
    "\n"
   ]
  },
  {
   "cell_type": "markdown",
   "metadata": {
    "id": "nINDXitJL-mr"
   },
   "source": [
    "## Matèrn 2.5 kernel"
   ]
  },
  {
   "cell_type": "markdown",
   "metadata": {
    "id": "zc1UcaIPL_aa"
   },
   "source": [
    "The class of Matèrn kernels is a generalization of the RBF kernel, see [here](https://scikit-learn.org/stable/modules/generated/sklearn.gaussian_process.kernels.Matern.html#sklearn.gaussian_process.kernels.Matern). It has an additional parameter which controls the smoothness of the resulting function. The smaller $\\nu$, the less smooth the approximated function is. Here $\\nu=2.5$ corresponds to twice differentiable functions. The kernel is defined as\n",
    "\n",
    "\\begin{equation}\n",
    "K(x,x') := \\frac{1}{\\Gamma(\\nu) \\, 2^{\\nu - 1}} \\left(\\frac{\\sqrt{2\\nu}}{\\rho} \\|x-x'\\|_2\\right)^\\nu K_{\\nu}\\left(\\frac{\\sqrt{2\\nu}}{\\rho} \\|x-x'\\|_2\\right),\n",
    "\\end{equation}\n",
    "\n",
    "where $\\Gamma(\\cdot)$ is the Gamma function, $K_\\nu(\\cdot)$ is the modified Bessel function of the second kind, and $\\rho >0$ is the length-scale parameter."
   ]
  },
  {
   "cell_type": "markdown",
   "metadata": {
    "id": "k3PkD-J1MC-A"
   },
   "source": [
    "## Laplacian kernel"
   ]
  },
  {
   "cell_type": "markdown",
   "metadata": {
    "id": "u4ZNx9qRMF6p"
   },
   "source": [
    "When the parameter $\\nu=0.5$ for the class of Matèrn kernels, it is called the Laplacian kernel. In particular, the Laplacian kernel has the expression, see [here](https://scikit-learn.org/stable/modules/generated/sklearn.metrics.pairwise.laplacian_kernel.html),\n",
    "\n",
    "\\begin{equation}\n",
    "K(x,x') = \\operatorname{exp}\\left(-\\gamma\\|x - x'\\|_1\\right),\n",
    "\\end{equation}\n",
    "\n",
    "where $\\gamma>0$ is the length-scale parameter. It corresponds to less smooth functions than the Matèrn $2.5$ or the RBF family."
   ]
  },
  {
   "cell_type": "markdown",
   "metadata": {
    "id": "qeDs1KORM3KL"
   },
   "source": [
    "## Choice of kernel"
   ]
  },
  {
   "cell_type": "markdown",
   "metadata": {
    "id": "-y3rwI2wL0_o"
   },
   "source": [
    "All the above kernels are respectively used to represent functions of varying smoothness. Although there are many other kernels that are used in practice, nevertheless, we will use just the above three kernels here, namely, the Gaussian RBF, the Matèrn $2.5$, and the Laplacian. For further details on the class of kernels used in prediction processes, see [here](https://scikit-learn.org/stable/modules/gaussian_process.html#gp-kernels). Depending on the kernel chosen, you should check with varying the length-scale parameters. Furthermore, a good practice is to see the scatterplot of the features and the target variables. This gives you an idea as to which kernel can be more appropriate.  "
   ]
  },
  {
   "cell_type": "code",
   "execution_count": 2,
   "metadata": {
    "id": "ooRmRVWyMffg",
    "tags": []
   },
   "outputs": [],
   "source": [
    "# Complete the function below that evaluates the kernel matrix K and G for a particular choice among the three kernels\n",
    "\n",
    "def kernel_choice(X_train, X_test=None, kernel_type='RBF', length_scale=1.0):\n",
    "    \n",
    "    n_samples_train = X_train.shape[0]\n",
    "    \n",
    "    # Select the appropriate kernel based on the specified kernel_type\n",
    "    if kernel_type == 'RBF':\n",
    "        kernel = RBF(length_scale=length_scale)\n",
    "    elif kernel_type == 'Matern':\n",
    "        kernel = Matern(length_scale=length_scale, nu=2.5)\n",
    "    elif kernel_type == 'Laplacian':\n",
    "        # Laplacian kernel is equivalent to the Exponential kernel with nu=0.5 in the Matérn class\n",
    "        kernel = Matern(length_scale=length_scale, nu=0.5)\n",
    "    else:\n",
    "        raise ValueError(\"Invalid kernel type. Choose 'RBF', 'Matern', or 'Laplacian'.\")\n",
    "        \n",
    "    # Compute the kernel matrix K\n",
    "    K = kernel(X_train)\n",
    "    \n",
    "    # If X_test is provided, compute the kernel matrix G between X_test and X_train\n",
    "    if X_test is not None:\n",
    "        G = kernel(X_test, X_train)\n",
    "        return K, G\n",
    "    else:\n",
    "        return K"
   ]
  },
  {
   "cell_type": "markdown",
   "metadata": {
    "id": "AN9hgjdkOSvj"
   },
   "source": [
    "## Convex combination of kernels"
   ]
  },
  {
   "cell_type": "code",
   "execution_count": 3,
   "metadata": {
    "id": "M8E9Yx6pOVM8",
    "tags": []
   },
   "outputs": [],
   "source": [
    "# Complete the function below that evaluates the kernel matrix K and G for any convex combination of the three kernels\n",
    "\n",
    "def convex_kernel(X_train, X_test, weights, length_scales):\n",
    "    \n",
    "    # Verify that the weights add to 1 and are non-negative\n",
    "    if not np.isclose(sum(weights.values()), 1.0):\n",
    "        raise ValueError(\"Weights should sum to 1.\")\n",
    "    if any(w < 0 for w in weights.values()):\n",
    "        raise ValueError(\"Weights should be non-negative.\")\n",
    "    \n",
    "    K_combined = np.zeros((X_train.shape[0], X_train.shape[0]))\n",
    "    G_combined = np.zeros((X_test.shape[0], X_train.shape[0]))\n",
    "\n",
    "    for kernel_type, weight in weights.items():\n",
    "        K, G = kernel_choice(X_train, X_test, kernel_type=kernel_type, length_scale=length_scales[kernel_type])\n",
    "        K_combined += weight * K\n",
    "        G_combined += weight * G\n",
    "\n",
    "    return K_combined, G_combined"
   ]
  },
  {
   "cell_type": "markdown",
   "metadata": {
    "id": "D2KErOXuPZ7l"
   },
   "source": [
    "## Product of kernels"
   ]
  },
  {
   "cell_type": "code",
   "execution_count": 4,
   "metadata": {
    "id": "Cy8ot3suPdIe",
    "tags": []
   },
   "outputs": [],
   "source": [
    "# Complete the function below that evaluates the kernel matrix K and G for product of the three kernels\n",
    "\n",
    "def product_kernel(X_train, X_test, length_scales):\n",
    "    \"\"\"\n",
    "    Compute the kernel matrix K and matrix G for the product of the three kernels.\n",
    "\n",
    "    Parameters:\n",
    "    X_train (numpy.ndarray): Training data points, shape (n_samples_train, n_features)\n",
    "    X_test (numpy.ndarray): Test data points, shape (n_samples_test, n_features)\n",
    "    length_scales (dict): Length-scale parameters for each kernel, e.g., {'RBF': 1.0, 'Matern': 1.0, 'Laplacian': 1.0}\n",
    "\n",
    "    Returns:\n",
    "    tuple: Product kernel matrices K and G\n",
    "    \"\"\"\n",
    "    # Initialize the product matrices\n",
    "    K_product = np.ones((X_train.shape[0], X_train.shape[0]))\n",
    "    G_product = np.ones((X_test.shape[0], X_train.shape[0]))\n",
    "\n",
    "    for kernel_type in ['RBF', 'Matern', 'Laplacian']:\n",
    "        K, G = kernel_choice(X_train, X_test, kernel_type=kernel_type, length_scale=length_scales[kernel_type])\n",
    "        K_product *= K\n",
    "        G_product *= G\n",
    "\n",
    "    return K_product, G_product"
   ]
  },
  {
   "cell_type": "markdown",
   "metadata": {},
   "source": [
    "## Writing kernel_functions.py"
   ]
  },
  {
   "cell_type": "code",
   "execution_count": 5,
   "metadata": {
    "tags": []
   },
   "outputs": [
    {
     "name": "stdout",
     "output_type": "stream",
     "text": [
      "Writing kernel_functions.py\n"
     ]
    }
   ],
   "source": [
    "%%writefile kernel_functions.py\n",
    "import numpy as np\n",
    "from sklearn.gaussian_process.kernels import RBF\n",
    "from sklearn.gaussian_process.kernels import Matern\n",
    "from scipy.spatial.distance import cdist\n",
    "def kernel_choice(X_train, X_test=None, kernel_type='RBF', length_scale=1.0):\n",
    "    \n",
    "    n_samples_train = X_train.shape[0]\n",
    "    \n",
    "    # Select the appropriate kernel based on the specified kernel_type\n",
    "    if kernel_type == 'RBF':\n",
    "        kernel = RBF(length_scale=length_scale)\n",
    "    elif kernel_type == 'Matern':\n",
    "        kernel = Matern(length_scale=length_scale, nu=2.5)\n",
    "    elif kernel_type == 'Laplacian':\n",
    "        # Laplacian kernel is equivalent to the Exponential kernel with nu=0.5 in the Matérn class\n",
    "        kernel = Matern(length_scale=length_scale, nu=0.5)\n",
    "    else:\n",
    "        raise ValueError(\"Invalid kernel type. Choose 'RBF', 'Matern', or 'Laplacian'.\")\n",
    "        \n",
    "    # Compute the kernel matrix K\n",
    "    K = kernel(X_train)\n",
    "    \n",
    "    # If X_test is provided, compute the kernel matrix G between X_test and X_train\n",
    "    if X_test is not None:\n",
    "        G = kernel(X_test, X_train)\n",
    "        return K, G\n",
    "    else:\n",
    "        return K\n",
    "\n",
    "# Complete the function below that evaluates the kernel matrix K and G for any convex combination of the three kernels\n",
    "\n",
    "def convex_kernel(X_train, X_test, weights, length_scales):\n",
    "    \n",
    "    # Verify that the weights add to 1 and are non-negative\n",
    "    if not np.isclose(sum(weights.values()), 1.0):\n",
    "        raise ValueError(\"Weights should sum to 1.\")\n",
    "    if any(w < 0 for w in weights.values()):\n",
    "        raise ValueError(\"Weights should be non-negative.\")\n",
    "    \n",
    "    K_combined = np.zeros((X_train.shape[0], X_train.shape[0]))\n",
    "    G_combined = np.zeros((X_test.shape[0], X_train.shape[0]))\n",
    "\n",
    "    for kernel_type, weight in weights.items():\n",
    "        K, G = kernel_choice(X_train, X_test, kernel_type=kernel_type, length_scale=length_scales[kernel_type])\n",
    "        K_combined += weight * K\n",
    "        G_combined += weight * G\n",
    "\n",
    "    return K_combined, G_combined\n",
    "\n",
    "def product_kernel(X_train, X_test, length_scales):\n",
    "  \n",
    "    # Initialize the product matrices\n",
    "    K_product = np.ones((X_train.shape[0], X_train.shape[0]))\n",
    "    G_product = np.ones((X_test.shape[0], X_train.shape[0]))\n",
    "\n",
    "    for kernel_type in ['RBF', 'Matern', 'Laplacian']:\n",
    "        K, G = kernel_choice(X_train, X_test, kernel_type=kernel_type, length_scale=length_scales[kernel_type])\n",
    "        K_product *= K\n",
    "        G_product *= G\n",
    "\n",
    "    return K_product, G_product"
   ]
  },
  {
   "cell_type": "code",
   "execution_count": null,
   "metadata": {},
   "outputs": [],
   "source": []
  }
 ],
 "metadata": {
  "colab": {
   "provenance": []
  },
  "kernelspec": {
   "display_name": "Python 3 (ipykernel)",
   "language": "python",
   "name": "python3"
  },
  "language_info": {
   "codemirror_mode": {
    "name": "ipython",
    "version": 3
   },
   "file_extension": ".py",
   "mimetype": "text/x-python",
   "name": "python",
   "nbconvert_exporter": "python",
   "pygments_lexer": "ipython3",
   "version": "3.10.9"
  }
 },
 "nbformat": 4,
 "nbformat_minor": 4
}
